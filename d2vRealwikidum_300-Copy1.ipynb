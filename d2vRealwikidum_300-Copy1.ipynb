{
 "cells": [
  {
   "cell_type": "code",
   "execution_count": 1,
   "metadata": {
    "collapsed": true
   },
   "outputs": [],
   "source": [
    "import logging\n",
    "import os\n",
    "import gensim\n",
    "import smart_open\n",
    "import  collections\n",
    "import random\n",
    "import warnings \n",
    "import logging\n",
    "warnings.filterwarnings(action='ignore',category=UserWarning,module='gensim')\n"
   ]
  },
  {
   "cell_type": "code",
   "execution_count": 2,
   "metadata": {
    "collapsed": true
   },
   "outputs": [],
   "source": [
    "#Set up logging configurations  \n",
    "logging.basicConfig(format='%(asctime)s : %(levelname)s : %(message)s', level=logging.INFO)"
   ]
  },
  {
   "cell_type": "code",
   "execution_count": 3,
   "metadata": {},
   "outputs": [
    {
     "name": "stdout",
     "output_type": "stream",
     "text": [
      "<__main__.LabeledLineSentence object at 0x7f4b7bddd0f0>\n"
     ]
    }
   ],
   "source": [
    "from gensim.models import Doc2Vec\n",
    "from gensim.models.doc2vec import LabeledSentence\n",
    "\n",
    "class LabeledLineSentence(object):\n",
    "    def __init__(self, filename):\n",
    "        self.filename = filename\n",
    "    def __iter__(self):\n",
    "        with open(self.filename, 'r') as f:\n",
    "            for uid, line in enumerate(f):\n",
    "                \n",
    "                yield LabeledSentence(words=line.split(), tags=['TXT_%s' % uid])\n",
    "\n",
    "sentences = LabeledLineSentence(\"/home/fatemeh/Documents/python/dnn-understanding/code/wiki.en.text\")\n",
    "\n",
    "print(sentences)"
   ]
  },
  {
   "cell_type": "code",
   "execution_count": 4,
   "metadata": {
    "collapsed": true
   },
   "outputs": [],
   "source": [
    "model = gensim.models.doc2vec.Doc2Vec(size=300, min_count=5, iter=20)\n",
    "#(size=400, min_count=3, iter=55)    \n",
    "\n",
    "model.build_vocab(sentences)\n",
    "\n",
    "print(\"vocab done\")\n",
    "\n",
    "%time model.train(sentences, total_examples=model.corpus_count)\n",
    "\n",
    "print(\"train\")\n",
    "\n",
    "model.save(\"doc2vec_wiki_D_300.txt\")"
   ]
  },
  {
   "cell_type": "code",
   "execution_count": 8,
   "metadata": {},
   "outputs": [
    {
     "data": {
      "text/plain": [
       "array([ -2.86672078e-03,  -4.83214855e-03,   5.82147762e-03,\n",
       "         2.83221155e-03,  -5.38526615e-03,   7.35091418e-03,\n",
       "         6.48303702e-03,  -5.22502000e-03,  -2.23284075e-03,\n",
       "         6.11268636e-03,   6.62072888e-03,   2.67294561e-03,\n",
       "        -1.11131044e-03,   1.73574768e-03,  -2.84287869e-03,\n",
       "         5.67549141e-03,  -5.10061812e-03,   2.49748467e-03,\n",
       "        -6.90249214e-03,   5.90707874e-03,  -4.88218758e-03,\n",
       "        -4.11457819e-04,   9.15659685e-03,   7.03204796e-03,\n",
       "         7.10814865e-03,  -2.53660418e-03,   6.21377316e-04,\n",
       "        -5.90374414e-03,   4.25973628e-03,   9.17429011e-03,\n",
       "        -1.52549567e-03,   5.44566289e-03,   6.38154510e-04,\n",
       "        -3.61815980e-03,   4.54226928e-03,   3.21548781e-03,\n",
       "         5.47764730e-03,   3.66133492e-04,  -9.37171094e-03,\n",
       "        -5.15841786e-03,   4.97694500e-03,  -3.73700773e-03,\n",
       "         7.08529819e-03,   3.24116081e-05,  -1.44633159e-04,\n",
       "        -2.43902300e-03,   7.25570740e-03,  -8.71502608e-03,\n",
       "         6.54574996e-03,   3.58854863e-03], dtype=float32)"
      ]
     },
     "execution_count": 8,
     "metadata": {},
     "output_type": "execute_result"
    }
   ],
   "source": [
    "model.infer_vector(['only', 'you', 'can'])"
   ]
  },
  {
   "cell_type": "code",
   "execution_count": 9,
   "metadata": {},
   "outputs": [
    {
     "name": "stdout",
     "output_type": "stream",
     "text": [
      "[('et', 0.9889155626296997), ('leading', 0.9881570339202881), ('those', 0.9879174828529358), ('Canada', 0.9876338243484497), ('Liberal', 0.9875488877296448), ('Grove', 0.987313985824585), ('matches', 0.9872931838035583), ('slogan', 0.9872443079948425), ('Good', 0.9871824979782104), ('management', 0.9871189594268799)]\n"
     ]
    }
   ],
   "source": [
    "print (model.most_similar(\"fires\"))"
   ]
  },
  {
   "cell_type": "code",
   "execution_count": 10,
   "metadata": {},
   "outputs": [
    {
     "name": "stdout",
     "output_type": "stream",
     "text": [
      "[ 0.01571665 -0.03477355  0.03999928 -0.00027907  0.08313894 -0.03727892\n",
      "  0.03461172 -0.03189727 -0.07338314  0.04325727 -0.04484431  0.03648184\n",
      "  0.05015948  0.04913468 -0.03347735  0.02325353 -0.03105309 -0.03227264\n",
      "  0.06165224 -0.06730888 -0.05078313 -0.06425183  0.05975012  0.05655986\n",
      "  0.00665964  0.01426202  0.04680209 -0.06289101  0.03641322  0.05236815\n",
      " -0.04623964 -0.03227931  0.03402216  0.05000139  0.05581727  0.02511236\n",
      "  0.02659604  0.03144038 -0.03323868 -0.03595668 -0.02675604 -0.01941067\n",
      "  0.01402176  0.00726173  0.03886427 -0.01086277  0.06725353 -0.03409914\n",
      " -0.02325037 -0.07153598]\n"
     ]
    }
   ],
   "source": [
    "print (model[\"fires\"])"
   ]
  },
  {
   "cell_type": "code",
   "execution_count": 11,
   "metadata": {},
   "outputs": [
    {
     "name": "stdout",
     "output_type": "stream",
     "text": [
      "[('Atlanta', 0.9987221956253052), ('persons', 0.9986709952354431), ('candidates', 0.998654842376709), ('County', 0.9986493587493896), ('county', 0.9986488819122314), ('city', 0.9986240267753601), ('Judge', 0.9986098408699036), ('votes', 0.9985962510108948), ('said', 0.9985662698745728), ('yesterday', 0.998558521270752)]\n"
     ]
    }
   ],
   "source": [
    "print (model.most_similar('election', topn=10))"
   ]
  },
  {
   "cell_type": "code",
   "execution_count": 13,
   "metadata": {},
   "outputs": [
    {
     "data": {
      "text/plain": [
       "[('illustrative', 0.4938625693321228),\n",
       " ('host', 0.4724528193473816),\n",
       " ('Rather', 0.4650704264640808)]"
      ]
     },
     "execution_count": 13,
     "metadata": {},
     "output_type": "execute_result"
    }
   ],
   "source": [
    "model.most_similar('absurdity', topn=3)"
   ]
  },
  {
   "cell_type": "code",
   "execution_count": 14,
   "metadata": {},
   "outputs": [
    {
     "data": {
      "text/plain": [
       "[('county', 0.9974332451820374),\n",
       " ('into', 0.9973833560943604),\n",
       " ('basketball', 0.9973552823066711),\n",
       " (\"they're\", 0.9973540306091309)]"
      ]
     },
     "execution_count": 14,
     "metadata": {},
     "output_type": "execute_result"
    }
   ],
   "source": [
    "model.most_similar('manner', topn=4)"
   ]
  },
  {
   "cell_type": "code",
   "execution_count": 16,
   "metadata": {
    "collapsed": true
   },
   "outputs": [],
   "source": [
    "def print_accuracy(model, questions_file):\n",
    "    print('Evaluating...\\n')\n",
    "    acc = model.accuracy(questions_file)\n",
    "\n",
    "    sem_correct = sum((len(acc[i]['correct']) for i in range(5)))\n",
    "    sem_total = sum((len(acc[i]['correct']) + len(acc[i]['incorrect'])) for i in range(5))\n",
    "    sem_acc = 100*float(sem_correct)/sem_total\n",
    "    print('\\nSemantic: {:d}/{:d}, Accuracy: {:.2f}%'.format(sem_correct, sem_total, sem_acc))\n",
    "    \n",
    "    syn_correct = sum((len(acc[i]['correct']) for i in range(5, len(acc)-1)))\n",
    "    syn_total = sum((len(acc[i]['correct']) + len(acc[i]['incorrect'])) for i in range(5,len(acc)-1))\n",
    "    syn_acc = 100*float(syn_correct)/syn_total\n",
    "    print('Syntactic: {:d}/{:d}, Accuracy: {:.2f}%\\n'.format(syn_correct, syn_total, syn_acc))\n",
    "    return (sem_acc, syn_acc)"
   ]
  },
  {
   "cell_type": "code",
   "execution_count": 17,
   "metadata": {},
   "outputs": [
    {
     "name": "stdout",
     "output_type": "stream",
     "text": [
      "Total: 56 out of 506, Correct: 0.00%, Incorrect: 100.00%\n"
     ]
    }
   ],
   "source": [
    "word_analogies_file = '/home/fatemeh/Documents/python/dnn-understanding/code/questions-words.txt'\n",
    "accuracies = []"
   ]
  },
  {
   "cell_type": "code",
   "execution_count": null,
   "metadata": {
    "collapsed": true
   },
   "outputs": [],
   "source": [
    "print('Accuracy for word2vec:')\n",
    "accuracies.append(print_accuracy(model,word_analogies_file))"
   ]
  },
  {
   "cell_type": "code",
   "execution_count": null,
   "metadata": {
    "collapsed": true
   },
   "outputs": [],
   "source": [
    "model.evaluate_word_pairs('/home/fatemeh/Documents/python/dnn-understanding/code/accuracy/eval/eval.tab',case_insensitive=True,delimiter='\\t', restrict_vocab=30000, dummy4unknown=False)"
   ]
  },
  {
   "cell_type": "code",
   "execution_count": null,
   "metadata": {
    "collapsed": true
   },
   "outputs": [],
   "source": []
  }
 ],
 "metadata": {
  "kernelspec": {
   "display_name": "Python 3",
   "language": "python",
   "name": "python3"
  },
  "language_info": {
   "codemirror_mode": {
    "name": "ipython",
    "version": 3
   },
   "file_extension": ".py",
   "mimetype": "text/x-python",
   "name": "python",
   "nbconvert_exporter": "python",
   "pygments_lexer": "ipython3",
   "version": "3.6.1"
  }
 },
 "nbformat": 4,
 "nbformat_minor": 2
}
